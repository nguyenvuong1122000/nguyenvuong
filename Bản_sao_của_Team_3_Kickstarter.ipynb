{
  "nbformat": 4,
  "nbformat_minor": 0,
  "metadata": {
    "kernelspec": {
      "display_name": "Python 3",
      "language": "python",
      "name": "python3"
    },
    "language_info": {
      "codemirror_mode": {
        "name": "ipython",
        "version": 3
      },
      "file_extension": ".py",
      "mimetype": "text/x-python",
      "name": "python",
      "nbconvert_exporter": "python",
      "pygments_lexer": "ipython3",
      "version": "3.7.3"
    },
    "colab": {
      "name": "Bản sao của Team 3 - Kickstarter.ipynb",
      "provenance": [],
      "toc_visible": true
    }
  },
  "cells": [
    {
      "cell_type": "markdown",
      "metadata": {
        "id": "gZNDQI6xOUkg",
        "colab_type": "text"
      },
      "source": [
        "# Team 3 - Kickstarter\n",
        "\n",
        "![](https://a.kickstarter.com/assets/site/social/og-kickstarter-social-d58bfe030adf82001e25d3f7015eedb8ab84bc4bf9eeeeede5f8d8b0d02d641a.png)\n",
        "\n",
        "_For more information about the dataset, read [here](https://www.kaggle.com/kemical/kickstarter-projects)._\n",
        "\n",
        "## Your tasks\n",
        "- Name your team!\n",
        "- Read the source and do some quick research to understand more about the dataset and its topic\n",
        "- Clean the data\n",
        "- Perform Exploratory Data Analysis on the dataset\n",
        "- Analyze the data more deeply and extract insights\n",
        "- Visualize your analysis on Google Data Studio\n",
        "- Present your works in front of the class and guests next Monday\n",
        "\n",
        "## Submission Guide\n",
        "- Create a Github repository for your project\n",
        "- Upload the dataset (.csv file) and the Jupyter Notebook to your Github repository. In the Jupyter Notebook, **include the link to your Google Data Studio report**.\n",
        "- Submit your works through this [Google Form](https://forms.gle/oxtXpGfS8JapVj3V8).\n",
        "\n",
        "## Tips for Data Cleaning, Manipulation & Visualization\n",
        "- Here are some of our tips for Data Cleaning, Manipulation & Visualization. [Click here](https://hackmd.io/cBNV7E6TT2WMliQC-GTw1A)\n",
        "\n",
        "_____________________________\n",
        "\n",
        "## Some Hints for This Dataset:\n",
        "- The format of `launched` column is not consistent with `deadline` column\n",
        "- Can you calculate the duration of the projects?\n",
        "- Some projects in `launched` and `deadline` columns have year = 1970, which is way before Kickstarter was born!\n",
        "- And more...\n"
      ]
    },
    {
      "cell_type": "code",
      "metadata": {
        "id": "5jamE3V7OhBJ",
        "colab_type": "code",
        "colab": {
          "base_uri": "https://localhost:8080/",
          "height": 128
        },
        "outputId": "c713bb7f-e1ce-48b3-f18e-6f2a3585dfbb"
      },
      "source": [
        ""
      ],
      "execution_count": null,
      "outputs": [
        {
          "output_type": "error",
          "ename": "SyntaxError",
          "evalue": "ignored",
          "traceback": [
            "\u001b[0;36m  File \u001b[0;32m\"<ipython-input-2-87057d60a27f>\"\u001b[0;36m, line \u001b[0;32m4\u001b[0m\n\u001b[0;31m    mkdir ~/.kaggle\u001b[0m\n\u001b[0m          ^\u001b[0m\n\u001b[0;31mSyntaxError\u001b[0m\u001b[0;31m:\u001b[0m invalid syntax\n"
          ]
        }
      ]
    },
    {
      "cell_type": "code",
      "metadata": {
        "id": "HKWJXItwOUkh",
        "colab_type": "code",
        "colab": {}
      },
      "source": [
        "# Start your codes here!\n",
        "\n",
        "\n",
        "import pandas as pd\n",
        "from sklearn.impute import SimpleImputer\n",
        "from sklearn.model_selection import train_test_split\n",
        "from sklearn.preprocessing import LabelEncoder\n",
        "from sklearn.linear_model import LogisticRegression\n",
        "#preprocess\n",
        "label_encoder = LabelEncoder()\n",
        "\n",
        "data = pd.read_csv(\"data/ks-projects-201612.csv\",engine ='python', index_col = \"ID \" )\n",
        "data = data[['main_category ','currency ','goal ','pledged ','backers ','country ','state ']]\n",
        "\n",
        "pd.to_numeric(data[\"pledged \"], errors='coerce')\n",
        "pd.to_numeric(data[\"goal \"], errors='coerce')\n",
        "pd.to_numeric(data[\"backers \"], errors='coerce')\n",
        "\n",
        "\n",
        "object_cols = [col for col in data.columns if data[col].dtype == \"object\"]\n",
        "\n",
        "for col in object_cols :\n",
        "    data[col] = label_encoder.fit_transform(data[col])\n",
        "\n",
        "X = data[['main_category ','currency ','goal ','pledged ','backers ','country ']]\n",
        "Y = data['state ']\n",
        "X_train, X_test, Y_train, Y_test = train_test_split(X, Y, test_size=0.7,random_state=10)\n",
        "\n",
        "model = LogisticRegression()\n",
        "model.fit(X_train,Y_train)\n"
      ],
      "execution_count": null,
      "outputs": []
    },
    {
      "cell_type": "code",
      "metadata": {
        "id": "G90Kmhn5OgD-",
        "colab_type": "code",
        "colab": {}
      },
      "source": [
        ""
      ],
      "execution_count": null,
      "outputs": []
    }
  ]
}